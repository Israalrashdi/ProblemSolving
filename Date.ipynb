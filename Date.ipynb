{
  "nbformat": 4,
  "nbformat_minor": 0,
  "metadata": {
    "colab": {
      "provenance": []
    },
    "kernelspec": {
      "name": "python3",
      "display_name": "Python 3"
    },
    "language_info": {
      "name": "python"
    }
  },
  "cells": [
    {
      "cell_type": "code",
      "execution_count": null,
      "metadata": {
        "id": "-O0dnE05bih9"
      },
      "outputs": [],
      "source": [
        "import datetime as dt"
      ]
    },
    {
      "cell_type": "code",
      "source": [
        "datet=dt.datetime(2025,4,30,10,30,0)\n",
        "print(datet)"
      ],
      "metadata": {
        "colab": {
          "base_uri": "https://localhost:8080/"
        },
        "id": "Uv-aLIJ2bqcL",
        "outputId": "578c5a03-920f-495f-c3be-f21e0eeec26c"
      },
      "execution_count": null,
      "outputs": [
        {
          "output_type": "stream",
          "name": "stdout",
          "text": [
            "2025-04-30 10:30:00\n"
          ]
        }
      ]
    },
    {
      "cell_type": "code",
      "source": [
        "now=dt.datetime.now()\n",
        "print(now)"
      ],
      "metadata": {
        "colab": {
          "base_uri": "https://localhost:8080/"
        },
        "id": "0wf0VUopdSnB",
        "outputId": "357ebcde-08a2-4981-b7b7-11d35791a34b"
      },
      "execution_count": null,
      "outputs": [
        {
          "output_type": "stream",
          "name": "stdout",
          "text": [
            "2025-04-30 07:06:30.222592\n"
          ]
        }
      ]
    },
    {
      "cell_type": "code",
      "source": [
        "formattedDate=now.strftime(\"%d/%b/%Y  %H:%M:%S\")\n",
        "print(formattedDate)"
      ],
      "metadata": {
        "colab": {
          "base_uri": "https://localhost:8080/"
        },
        "id": "pX7HxlrWdWRB",
        "outputId": "66a639f1-c8f4-4d40-de8d-f9406c83c00d"
      },
      "execution_count": null,
      "outputs": [
        {
          "output_type": "stream",
          "name": "stdout",
          "text": [
            "30/Apr/2025  07:06:30\n"
          ]
        }
      ]
    },
    {
      "cell_type": "code",
      "source": [
        "from datetime import datetime"
      ],
      "metadata": {
        "id": "bzL5txJMhUPa"
      },
      "execution_count": null,
      "outputs": []
    },
    {
      "cell_type": "code",
      "source": [
        "date_str = \"29/04/2025\"\n",
        "dt = datetime.strptime(date_str, \"%d/%m/%Y\")\n",
        "print(dt)"
      ],
      "metadata": {
        "colab": {
          "base_uri": "https://localhost:8080/"
        },
        "id": "psy4isWkduCK",
        "outputId": "098210d7-c256-4cc3-e890-7a32f70def24"
      },
      "execution_count": null,
      "outputs": [
        {
          "output_type": "stream",
          "name": "stdout",
          "text": [
            "2025-04-29 00:00:00\n"
          ]
        }
      ]
    },
    {
      "cell_type": "code",
      "source": [
        "formatted_date = dt.strftime(\"%d-%b-%Y %H:%M:%S\")\n",
        "print(formatted_date)"
      ],
      "metadata": {
        "colab": {
          "base_uri": "https://localhost:8080/"
        },
        "id": "JDbkPwl_gC7i",
        "outputId": "571f172f-7450-40ad-a372-145f452ade63"
      },
      "execution_count": null,
      "outputs": [
        {
          "output_type": "stream",
          "name": "stdout",
          "text": [
            "29-Apr-2025 00:00:00\n"
          ]
        }
      ]
    },
    {
      "cell_type": "code",
      "source": [
        "from datetime import timedelta\n",
        "future_date = dt + timedelta(days=10)\n",
        "print(future_date)"
      ],
      "metadata": {
        "colab": {
          "base_uri": "https://localhost:8080/"
        },
        "id": "AqSHRYrvgyHK",
        "outputId": "dcc5f84c-91b9-44f5-de44-62ead930d9e3"
      },
      "execution_count": null,
      "outputs": [
        {
          "output_type": "stream",
          "name": "stdout",
          "text": [
            "2025-05-09 00:00:00\n"
          ]
        }
      ]
    },
    {
      "cell_type": "code",
      "source": [
        "earlier_date = datetime(2025, 4, 20)\n",
        "difference = dt - earlier_date\n",
        "print(difference)"
      ],
      "metadata": {
        "colab": {
          "base_uri": "https://localhost:8080/"
        },
        "id": "c_gdimhtit37",
        "outputId": "6780aa04-23f5-464b-8bb2-ae3f43e75df0"
      },
      "execution_count": null,
      "outputs": [
        {
          "output_type": "stream",
          "name": "stdout",
          "text": [
            "9 days, 0:00:00\n"
          ]
        }
      ]
    },
    {
      "cell_type": "code",
      "source": [
        "print(dt.year)\n",
        "print(dt.month)\n",
        "print(dt.day)\n",
        "print(dt.hour)\n",
        "print(dt.minute)"
      ],
      "metadata": {
        "colab": {
          "base_uri": "https://localhost:8080/"
        },
        "id": "bc1Rg4kYj3Ob",
        "outputId": "eb1da1fc-05c9-4b10-8b76-8d754d053d93"
      },
      "execution_count": null,
      "outputs": [
        {
          "output_type": "stream",
          "name": "stdout",
          "text": [
            "2025\n",
            "4\n",
            "29\n",
            "0\n",
            "0\n"
          ]
        }
      ]
    },
    {
      "cell_type": "code",
      "source": [
        "def days_until(target_date_str):\n",
        " target_date = datetime.strptime(target_date_str, \"%Y-%m-%d\")\n",
        " today = datetime.now()\n",
        " delta = target_date - today\n",
        " return delta.day\n",
        " print(today)\n",
        " print(delta)"
      ],
      "metadata": {
        "id": "FDQojmWAles7"
      },
      "execution_count": null,
      "outputs": []
    },
    {
      "cell_type": "code",
      "source": [
        "import pandas as pd\n",
        "sales=pd.read_csv(\"/content/sample_sales_data.csv\")\n",
        "print(sales)"
      ],
      "metadata": {
        "colab": {
          "base_uri": "https://localhost:8080/"
        },
        "id": "RJvEzSg2l_fU",
        "outputId": "13fadcc1-190e-424b-e8be-037389c16585"
      },
      "execution_count": null,
      "outputs": [
        {
          "output_type": "stream",
          "name": "stdout",
          "text": [
            "    OrderID CustomerName     Category  OrderDate  Quantity   Price  \\\n",
            "0   ORD0001       Hannah        Books   1/1/2025         6  331.73   \n",
            "1   ORD0002       Edward        Books   1/2/2025         3  310.03   \n",
            "2   ORD0003        Alice     Clothing   1/3/2025         9  176.17   \n",
            "3   ORD0004       Hannah  Electronics   1/4/2025         3   79.97   \n",
            "4   ORD0005       George         Home   1/5/2025         7  406.03   \n",
            "..      ...          ...          ...        ...       ...     ...   \n",
            "95  ORD0096        Diana     Clothing   4/6/2025         5  368.23   \n",
            "96  ORD0097          Bob        Books   4/7/2025         8  360.17   \n",
            "97  ORD0098        Diana     Clothing   4/8/2025         9   29.97   \n",
            "98  ORD0099        Alice         Home   4/9/2025         5  465.20   \n",
            "99  ORD0100      Charlie        Books  4/10/2025         9   41.55   \n",
            "\n",
            "    TotalAmount     Status  \n",
            "0       1990.38   Canceled  \n",
            "1        930.09  Completed  \n",
            "2       1585.53   Canceled  \n",
            "3        239.91    Pending  \n",
            "4       2842.21   Canceled  \n",
            "..          ...        ...  \n",
            "95      1841.15  Completed  \n",
            "96      2881.36  Completed  \n",
            "97       269.73   Canceled  \n",
            "98      2326.00    Pending  \n",
            "99       373.95    Pending  \n",
            "\n",
            "[100 rows x 8 columns]\n"
          ]
        }
      ]
    },
    {
      "cell_type": "code",
      "source": [
        "dates=sales['OrderDate']\n",
        "dates"
      ],
      "metadata": {
        "colab": {
          "base_uri": "https://localhost:8080/",
          "height": 458
        },
        "id": "rZP5RBlRm5Q_",
        "outputId": "5119d828-0a5b-4396-8c12-b0ac9e31aa5c"
      },
      "execution_count": null,
      "outputs": [
        {
          "output_type": "execute_result",
          "data": {
            "text/plain": [
              "0      1/1/2025\n",
              "1      1/2/2025\n",
              "2      1/3/2025\n",
              "3      1/4/2025\n",
              "4      1/5/2025\n",
              "        ...    \n",
              "95     4/6/2025\n",
              "96     4/7/2025\n",
              "97     4/8/2025\n",
              "98     4/9/2025\n",
              "99    4/10/2025\n",
              "Name: OrderDate, Length: 100, dtype: object"
            ],
            "text/html": [
              "<div>\n",
              "<style scoped>\n",
              "    .dataframe tbody tr th:only-of-type {\n",
              "        vertical-align: middle;\n",
              "    }\n",
              "\n",
              "    .dataframe tbody tr th {\n",
              "        vertical-align: top;\n",
              "    }\n",
              "\n",
              "    .dataframe thead th {\n",
              "        text-align: right;\n",
              "    }\n",
              "</style>\n",
              "<table border=\"1\" class=\"dataframe\">\n",
              "  <thead>\n",
              "    <tr style=\"text-align: right;\">\n",
              "      <th></th>\n",
              "      <th>OrderDate</th>\n",
              "    </tr>\n",
              "  </thead>\n",
              "  <tbody>\n",
              "    <tr>\n",
              "      <th>0</th>\n",
              "      <td>1/1/2025</td>\n",
              "    </tr>\n",
              "    <tr>\n",
              "      <th>1</th>\n",
              "      <td>1/2/2025</td>\n",
              "    </tr>\n",
              "    <tr>\n",
              "      <th>2</th>\n",
              "      <td>1/3/2025</td>\n",
              "    </tr>\n",
              "    <tr>\n",
              "      <th>3</th>\n",
              "      <td>1/4/2025</td>\n",
              "    </tr>\n",
              "    <tr>\n",
              "      <th>4</th>\n",
              "      <td>1/5/2025</td>\n",
              "    </tr>\n",
              "    <tr>\n",
              "      <th>...</th>\n",
              "      <td>...</td>\n",
              "    </tr>\n",
              "    <tr>\n",
              "      <th>95</th>\n",
              "      <td>4/6/2025</td>\n",
              "    </tr>\n",
              "    <tr>\n",
              "      <th>96</th>\n",
              "      <td>4/7/2025</td>\n",
              "    </tr>\n",
              "    <tr>\n",
              "      <th>97</th>\n",
              "      <td>4/8/2025</td>\n",
              "    </tr>\n",
              "    <tr>\n",
              "      <th>98</th>\n",
              "      <td>4/9/2025</td>\n",
              "    </tr>\n",
              "    <tr>\n",
              "      <th>99</th>\n",
              "      <td>4/10/2025</td>\n",
              "    </tr>\n",
              "  </tbody>\n",
              "</table>\n",
              "<p>100 rows × 1 columns</p>\n",
              "</div><br><label><b>dtype:</b> object</label>"
            ]
          },
          "metadata": {},
          "execution_count": 42
        }
      ]
    },
    {
      "cell_type": "code",
      "source": [
        "sales['OrderDate']=pd.to_datetime(sales['OrderDate'])\n",
        "future_date=sales[\"OrderDate\"]+ timedelta(days=10)\n",
        "print(future_date)"
      ],
      "metadata": {
        "colab": {
          "base_uri": "https://localhost:8080/"
        },
        "id": "dgI4pekznPNc",
        "outputId": "7cd43ba5-cb29-469b-d269-8cb1312cccfe"
      },
      "execution_count": null,
      "outputs": [
        {
          "output_type": "stream",
          "name": "stdout",
          "text": [
            "0    2025-01-11\n",
            "1    2025-01-12\n",
            "2    2025-01-13\n",
            "3    2025-01-14\n",
            "4    2025-01-15\n",
            "        ...    \n",
            "95   2025-04-16\n",
            "96   2025-04-17\n",
            "97   2025-04-18\n",
            "98   2025-04-19\n",
            "99   2025-04-20\n",
            "Name: OrderDate, Length: 100, dtype: datetime64[ns]\n"
          ]
        }
      ]
    },
    {
      "cell_type": "code",
      "source": [
        "print(sales[\"OrderDate\"].dt.year)"
      ],
      "metadata": {
        "colab": {
          "base_uri": "https://localhost:8080/"
        },
        "id": "DFvwR3z8oGTE",
        "outputId": "d7f4a1d9-a8d1-4d43-e0d4-8cfe19350acb"
      },
      "execution_count": null,
      "outputs": [
        {
          "output_type": "stream",
          "name": "stdout",
          "text": [
            "0     2025.0\n",
            "1     2025.0\n",
            "2     2025.0\n",
            "3     2025.0\n",
            "4     2025.0\n",
            "       ...  \n",
            "95    2025.0\n",
            "96    2025.0\n",
            "97    2025.0\n",
            "98    2025.0\n",
            "99    2025.0\n",
            "Name: OrderDate, Length: 100, dtype: float64\n"
          ]
        }
      ]
    },
    {
      "cell_type": "code",
      "source": [
        "print(sales[\"OrderDate\"].dt.month)"
      ],
      "metadata": {
        "colab": {
          "base_uri": "https://localhost:8080/"
        },
        "id": "FTvHd9E1o461",
        "outputId": "29c3fb3b-aba3-4322-a3f3-e3b34ab7d5b0"
      },
      "execution_count": null,
      "outputs": [
        {
          "output_type": "stream",
          "name": "stdout",
          "text": [
            "0     1.0\n",
            "1     1.0\n",
            "2     1.0\n",
            "3     1.0\n",
            "4     1.0\n",
            "     ... \n",
            "95    4.0\n",
            "96    4.0\n",
            "97    4.0\n",
            "98    4.0\n",
            "99    4.0\n",
            "Name: OrderDate, Length: 100, dtype: float64\n"
          ]
        }
      ]
    },
    {
      "cell_type": "code",
      "source": [
        "formateddate=sales[\"OrderDate\"].dt.strftime(\"%d-%b-%Y\")\n",
        "formateddate"
      ],
      "metadata": {
        "colab": {
          "base_uri": "https://localhost:8080/",
          "height": 458
        },
        "id": "Ecq7E61UpD_E",
        "outputId": "f0bbfebd-ee8e-4cad-f619-39e9904198bb"
      },
      "execution_count": null,
      "outputs": [
        {
          "output_type": "execute_result",
          "data": {
            "text/plain": [
              "0     01-Jan-2025\n",
              "1     02-Jan-2025\n",
              "2     03-Jan-2025\n",
              "3     04-Jan-2025\n",
              "4     05-Jan-2025\n",
              "         ...     \n",
              "95    06-Apr-2025\n",
              "96    07-Apr-2025\n",
              "97    08-Apr-2025\n",
              "98    09-Apr-2025\n",
              "99    10-Apr-2025\n",
              "Name: OrderDate, Length: 100, dtype: object"
            ],
            "text/html": [
              "<div>\n",
              "<style scoped>\n",
              "    .dataframe tbody tr th:only-of-type {\n",
              "        vertical-align: middle;\n",
              "    }\n",
              "\n",
              "    .dataframe tbody tr th {\n",
              "        vertical-align: top;\n",
              "    }\n",
              "\n",
              "    .dataframe thead th {\n",
              "        text-align: right;\n",
              "    }\n",
              "</style>\n",
              "<table border=\"1\" class=\"dataframe\">\n",
              "  <thead>\n",
              "    <tr style=\"text-align: right;\">\n",
              "      <th></th>\n",
              "      <th>OrderDate</th>\n",
              "    </tr>\n",
              "  </thead>\n",
              "  <tbody>\n",
              "    <tr>\n",
              "      <th>0</th>\n",
              "      <td>01-Jan-2025</td>\n",
              "    </tr>\n",
              "    <tr>\n",
              "      <th>1</th>\n",
              "      <td>02-Jan-2025</td>\n",
              "    </tr>\n",
              "    <tr>\n",
              "      <th>2</th>\n",
              "      <td>03-Jan-2025</td>\n",
              "    </tr>\n",
              "    <tr>\n",
              "      <th>3</th>\n",
              "      <td>04-Jan-2025</td>\n",
              "    </tr>\n",
              "    <tr>\n",
              "      <th>4</th>\n",
              "      <td>05-Jan-2025</td>\n",
              "    </tr>\n",
              "    <tr>\n",
              "      <th>...</th>\n",
              "      <td>...</td>\n",
              "    </tr>\n",
              "    <tr>\n",
              "      <th>95</th>\n",
              "      <td>06-Apr-2025</td>\n",
              "    </tr>\n",
              "    <tr>\n",
              "      <th>96</th>\n",
              "      <td>07-Apr-2025</td>\n",
              "    </tr>\n",
              "    <tr>\n",
              "      <th>97</th>\n",
              "      <td>08-Apr-2025</td>\n",
              "    </tr>\n",
              "    <tr>\n",
              "      <th>98</th>\n",
              "      <td>09-Apr-2025</td>\n",
              "    </tr>\n",
              "    <tr>\n",
              "      <th>99</th>\n",
              "      <td>10-Apr-2025</td>\n",
              "    </tr>\n",
              "  </tbody>\n",
              "</table>\n",
              "<p>100 rows × 1 columns</p>\n",
              "</div><br><label><b>dtype:</b> object</label>"
            ]
          },
          "metadata": {},
          "execution_count": 47
        }
      ]
    },
    {
      "cell_type": "code",
      "source": [],
      "metadata": {
        "id": "_BEP26smqEfF"
      },
      "execution_count": null,
      "outputs": []
    }
  ]
}