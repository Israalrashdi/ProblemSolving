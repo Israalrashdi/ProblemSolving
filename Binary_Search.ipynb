{
  "nbformat": 4,
  "nbformat_minor": 0,
  "metadata": {
    "colab": {
      "provenance": []
    },
    "kernelspec": {
      "name": "python3",
      "display_name": "Python 3"
    },
    "language_info": {
      "name": "python"
    }
  },
  "cells": [
    {
      "cell_type": "code",
      "execution_count": null,
      "metadata": {
        "id": "WXuSG0VvOvKo"
      },
      "outputs": [],
      "source": [
        "list1 = [5, 7, 9, 11 , 0]\n",
        "value = 9\n",
        "low = 0\n",
        "high = len(list1) - 1\n",
        "while low <= high:\n",
        "   mid = (low + high) // 2\n",
        "   if list1[mid] == value:\n",
        "       print([mid])\n",
        "       break\n",
        "   elif list1[mid] < value:\n",
        "       low = mid + 1\n",
        "   else:\n",
        "       high = mid - 1\n",
        "else:\n",
        "   print(\"value not found!\")"
      ]
    }
  ]
}