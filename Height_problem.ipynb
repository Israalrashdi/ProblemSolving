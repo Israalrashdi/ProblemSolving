{
  "nbformat": 4,
  "nbformat_minor": 0,
  "metadata": {
    "colab": {
      "provenance": []
    },
    "kernelspec": {
      "name": "python3",
      "display_name": "Python 3"
    },
    "language_info": {
      "name": "python"
    }
  },
  "cells": [
    {
      "cell_type": "code",
      "execution_count": null,
      "metadata": {
        "id": "WXuSG0VvOvKo"
      },
      "outputs": [],
      "source": [
        "h = int(input(\"Enter Height: \"))\n",
        "for i in range(h):\n",
        "   print('  ' * (h - i - 1), end='')\n",
        "# The Left side\n",
        "   x = 1\n",
        "   for j in range(i + 1):\n",
        "       print(x, end=' ')\n",
        "       x *= 2\n",
        "# The Right side\n",
        "   x //= 4\n",
        "   for j in range(i):\n",
        "       print(x, end=' ')\n",
        "       x //= 2\n",
        "   print()"
      ]
    }
  ]
}