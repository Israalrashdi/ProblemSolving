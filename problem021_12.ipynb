{
  "nbformat": 4,
  "nbformat_minor": 0,
  "metadata": {
    "colab": {
      "provenance": []
    },
    "kernelspec": {
      "name": "python3",
      "display_name": "Python 3"
    },
    "language_info": {
      "name": "python"
    }
  },
  "cells": [
    {
      "cell_type": "code",
      "execution_count": null,
      "metadata": {
        "id": "WXuSG0VvOvKo"
      },
      "outputs": [],
      "source": [
        "def countInputs(sides):\n",
        "    counters = [0] * (sides + 1)  # index 0 will not be used\n",
        "    print(\"Enter die rolls (press Enter when done):\")\n",
        "\n",
        "    while True:\n",
        "        try:\n",
        "            line = input()\n",
        "            if line == \"\":\n",
        "                break\n",
        "            value = int(line)\n",
        "            if 1 <= value <= sides:\n",
        "                counters[value] += 1\n",
        "            else:\n",
        "                print(\"ERROR: Input out of bounds (must be 1-6)\")\n",
        "        except ValueError:\n",
        "            print(\"ERROR: Invalid input (must be an integer)\")\n",
        "\n",
        "    return counters\n",
        "\n",
        "def printCounters(counters):\n",
        "    print(\"\\nDie face frequencies:\")\n",
        "    for i in range(1, len(counters)):\n",
        "        print(f\"{i}: {counters[i]}\")\n",
        "\n",
        "def main():\n",
        "    counters = countInputs(6)\n",
        "    printCounters(counters)\n",
        "\n",
        "    main()\n"
      ]
    }
  ]
}