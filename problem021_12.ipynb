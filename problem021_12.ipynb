{
  "nbformat": 4,
  "nbformat_minor": 0,
  "metadata": {
    "colab": {
      "provenance": []
    },
    "kernelspec": {
      "name": "python3",
      "display_name": "Python 3"
    },
    "language_info": {
      "name": "python"
    }
  },
  "cells": [
    {
      "cell_type": "code",
      "execution_count": 4,
      "metadata": {
        "id": "WXuSG0VvOvKo"
      },
      "outputs": [],
      "source": [
        "def count_inputs(rolls):\n",
        "    counters = [0] * 7  # Index 0 is unused\n",
        "    for roll in rolls:\n",
        "        if 1 <= roll <= 6:\n",
        "            counters[roll] += 1\n",
        "        else:\n",
        "            print(f\"ERROR: Invalid roll '{roll}'\")\n",
        "    return counters\n",
        "def print_counters(counters):\n",
        "    for i in range(1, 7):\n",
        "        print(f\"{i}: {counters[i]}\")\n",
        "user_input = input(\"Enter die rolls (1-6), separated by spaces: \")\n",
        "rolls = list(map(int, user_input.split()))\n",
        "counts = count_inputs(rolls)\n",
        "print(\"Frequencies:\")\n",
        "print_counters(counts)"
      ]
    },
    {
      "cell_type": "code",
      "source": [],
      "metadata": {
        "id": "gO2XiC5dU3Qe"
      },
      "execution_count": null,
      "outputs": []
    }
  ]
}