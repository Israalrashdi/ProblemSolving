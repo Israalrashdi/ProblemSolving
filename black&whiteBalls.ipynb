{
  "nbformat": 4,
  "nbformat_minor": 0,
  "metadata": {
    "colab": {
      "provenance": []
    },
    "kernelspec": {
      "name": "python3",
      "display_name": "Python 3"
    },
    "language_info": {
      "name": "python"
    }
  },
  "cells": [
    {
      "cell_type": "code",
      "execution_count": null,
      "metadata": {
        "id": "WXuSG0VvOvKo"
      },
      "outputs": [],
      "source": [
        "white = int(input(\"White balls: \"))\n",
        "black = int(input(\"Black balls: \"))\n",
        "\n",
        "row = 1\n",
        "height = 1\n",
        "\n",
        "while True:\n",
        "    if row % 2 and white >= row:\n",
        "        white -= row\n",
        "        height = row\n",
        "    elif row % 2 == 0 and black >= row:\n",
        "        black -=\n",
        "        height = row\n",
        "\n",
        "    else:\n",
        "        break\n",
        "    row +=1\n",
        "\n",
        "print(\"Height: \", height)"
      ]
    }
  ]
}