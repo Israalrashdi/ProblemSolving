{
  "nbformat": 4,
  "nbformat_minor": 0,
  "metadata": {
    "colab": {
      "provenance": []
    },
    "kernelspec": {
      "name": "python3",
      "display_name": "Python 3"
    },
    "language_info": {
      "name": "python"
    }
  },
  "cells": [
    {
      "cell_type": "code",
      "execution_count": null,
      "metadata": {
        "id": "WXuSG0VvOvKo"
      },
      "outputs": [],
      "source": [
        "def diagonal_difference(matrix):\n",
        " total1 = total2 = 0\n",
        " for i in range (len(matrix)):\n",
        "   total1 += matrix[i][i]\n",
        "   total2 += matrix[i][len(matrix) - 1 - i]\n",
        " return abs(total1 - total2)\n",
        "matrix1=[\n",
        "   [1,2,3],\n",
        "   [4,5,6],\n",
        "   [9,8,9]\n",
        "]\n",
        "matrix2=[\n",
        "   [11,2,4],\n",
        "   [4,5,6],\n",
        "   [10,8,-12]\n",
        "]\n",
        "print(diagonal_difference(matrix1))\n",
        "print(diagonal_difference(matrix2))"
      ]
    }
  ]
}